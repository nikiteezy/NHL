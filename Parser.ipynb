{
 "cells": [
  {
   "cell_type": "code",
   "execution_count": 1,
   "metadata": {},
   "outputs": [
    {
     "name": "stdout",
     "output_type": "stream",
     "text": [
      "Collecting bs4\n",
      "  Downloading https://files.pythonhosted.org/packages/10/ed/7e8b97591f6f456174139ec089c769f89a94a1a4025fe967691de971f314/bs4-0.0.1.tar.gz\n",
      "Requirement already satisfied: beautifulsoup4 in c:\\users\\nikit\\anaconda3\\lib\\site-packages (from bs4) (4.6.3)\n",
      "Building wheels for collected packages: bs4\n",
      "  Running setup.py bdist_wheel for bs4: started\n",
      "  Running setup.py bdist_wheel for bs4: finished with status 'done'\n",
      "  Stored in directory: C:\\Users\\nikit\\AppData\\Local\\pip\\Cache\\wheels\\a0\\b0\\b2\\4f80b9456b87abedbc0bf2d52235414c3467d8889be38dd472\n",
      "Successfully built bs4\n",
      "Installing collected packages: bs4\n",
      "Successfully installed bs4-0.0.1\n"
     ]
    }
   ],
   "source": [
    "!pip install bs4"
   ]
  },
  {
   "cell_type": "code",
   "execution_count": 26,
   "metadata": {},
   "outputs": [],
   "source": [
    "from bs4 import BeautifulSoup\n",
    "import requests"
   ]
  },
  {
   "cell_type": "code",
   "execution_count": 157,
   "metadata": {},
   "outputs": [],
   "source": [
    "BASE_URL = 'https://www.foxsports.com/nhl/team-stats?season=2017&category=SPECIAL+TEAMS' "
   ]
  },
  {
   "cell_type": "code",
   "execution_count": 28,
   "metadata": {},
   "outputs": [],
   "source": [
    "headers = {'User-Agent': 'Mozilla/5.0 (Windows NT 6.2)\\\n",
    "    AppleWebKit/537.36 (KHTML, like Gecko)\\\n",
    "    Chrome/63.0.3239.84 Safari/537.36',\n",
    "    'Accept-Language': 'ru-RU,ru;q=0.9,en-US;q=0.8,en;q=0.7'}"
   ]
  },
  {
   "cell_type": "code",
   "execution_count": 29,
   "metadata": {},
   "outputs": [],
   "source": [
    "def get_xml(url):\n",
    "    return requests.get(url, headers=headers).content"
   ]
  },
  {
   "cell_type": "code",
   "execution_count": 30,
   "metadata": {},
   "outputs": [],
   "source": [
    "def parse(xml):\n",
    "    item = BeautifulSoup(xml, 'lxml')\n",
    "    table = item.find('div', {'class': 'stats-header'})\n",
    "    print(table)"
   ]
  },
  {
   "cell_type": "code",
   "execution_count": 31,
   "metadata": {},
   "outputs": [
    {
     "name": "stdout",
     "output_type": "stream",
     "text": [
      "None\n"
     ]
    }
   ],
   "source": [
    "parse(get_xml(BASE_URL))"
   ]
  },
  {
   "cell_type": "code",
   "execution_count": 68,
   "metadata": {},
   "outputs": [],
   "source": [
    "def get_html(url):\n",
    "    response = requests.get(url)\n",
    "    return response.text"
   ]
  },
  {
   "cell_type": "code",
   "execution_count": 158,
   "metadata": {},
   "outputs": [],
   "source": [
    "def parse(html):\n",
    "    soup = BeautifulSoup(html, 'lxml')\n",
    "    print(soup.find('div', class_='wisbb_statsTable').find_all('td')[0+14].text)\n",
    "    print(soup.find('div', class_='wisbb_statsTable').find_all('td')[3+14].text)\n",
    "    print(soup.find('div', class_='wisbb_statsTable').find_all('td')[4+14].text)\n",
    "    print(soup.find('div', class_='wisbb_statsTable').find_all('td')[6+14].text)\n",
    "    print(soup.find('div', class_='wisbb_statsTable').find_all('td')[7+14].text)\n",
    "    print(soup.find('div', class_='wisbb_statsTable').find_all('td')[9+14].text)\n",
    "    print(soup.find('div', class_='wisbb_statsTable').find_all('td')[10+14].text)\n",
    "    print(soup.find('div', class_='wisbb_statsTable').find_all('td')[12+14].text)\n",
    "    print(soup.find('div', class_='wisbb_statsTable').find_all('td')[13+14].text)\n"
   ]
  },
  {
   "cell_type": "code",
   "execution_count": 159,
   "metadata": {
    "scrolled": true
   },
   "outputs": [
    {
     "name": "stdout",
     "output_type": "stream",
     "text": [
      "\n",
      "\n",
      "1\n",
      "\n",
      "Winnipeg\n",
      "WPG\n",
      "\n",
      "\n",
      "216\n",
      "3.3\n",
      "57\n",
      "2643\n",
      "30\n",
      ".917\n",
      "702\n",
      "-5.0\n"
     ]
    }
   ],
   "source": [
    "parse(get_html(BASE_URL))"
   ]
  },
  {
   "cell_type": "code",
   "execution_count": null,
   "metadata": {},
   "outputs": [],
   "source": []
  },
  {
   "cell_type": "code",
   "execution_count": null,
   "metadata": {},
   "outputs": [],
   "source": []
  }
 ],
 "metadata": {
  "kernelspec": {
   "display_name": "Python 3",
   "language": "python",
   "name": "python3"
  },
  "language_info": {
   "codemirror_mode": {
    "name": "ipython",
    "version": 3
   },
   "file_extension": ".py",
   "mimetype": "text/x-python",
   "name": "python",
   "nbconvert_exporter": "python",
   "pygments_lexer": "ipython3",
   "version": "3.7.0"
  }
 },
 "nbformat": 4,
 "nbformat_minor": 2
}
