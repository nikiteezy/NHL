{
 "cells": [
  {
   "cell_type": "code",
   "execution_count": 4,
   "metadata": {},
   "outputs": [],
   "source": [
    "from bs4 import BeautifulSoup\n",
    "import requests"
   ]
  },
  {
   "cell_type": "code",
   "execution_count": 136,
   "metadata": {},
   "outputs": [],
   "source": [
    "BASE_URL = 'https://www.leon.ru/events/Ice-Hockey/562949953421985-Russia-KHL' "
   ]
  },
  {
   "cell_type": "code",
   "execution_count": 137,
   "metadata": {},
   "outputs": [],
   "source": [
    "def get_html(url):\n",
    "    response = requests.get(url)\n",
    "    return response.text"
   ]
  },
  {
   "cell_type": "code",
   "execution_count": 138,
   "metadata": {},
   "outputs": [],
   "source": [
    "def parse(html):\n",
    "    soup = BeautifulSoup(html, 'lxml')\n",
    "    #print(soup.find_all('script', {\"type\": \"text/javascript\"})[48])\n",
    "    return soup.find_all('script', {\"type\": \"text/javascript\"})[48].text"
   ]
  },
  {
   "cell_type": "code",
   "execution_count": 139,
   "metadata": {
    "scrolled": true
   },
   "outputs": [],
   "source": [
    "text = parse(get_html(BASE_URL))"
   ]
  },
  {
   "cell_type": "code",
   "execution_count": 140,
   "metadata": {
    "scrolled": false
   },
   "outputs": [
    {
     "name": "stdout",
     "output_type": "stream",
     "text": [
      "4.14 \t 4.45 \t 1.74 \t Адмирал - Локомотив Ярославль\n",
      "2.08 \t 4.07 \t 3.18 \t Амур Хабаровск - Северсталь\n",
      "3.59 \t 4.4 \t 1.87 \t Куньлунь Ред Стар - Йокерит Хельсинки\n",
      "3.24 \t 4.26 \t 2.01 \t Сибирь - ХК Салават Юлаев\n",
      "1.86 \t 4.44 \t 3.61 \t Барыс Астана - ХК Сочи\n",
      "1.53 \t 5.09 \t 5.28 \t Металлург Магнитогорск - Нефтехимик Нижнекамск\n",
      "1.82 \t 4.38 \t 3.82 \t Авангард Омск - ХК Спартак Москва\n",
      "1.22 \t 7.46 \t 11.69 \t ПХК ЦСКА Москва - Динамо Минск\n",
      "1.27 \t 7.28 \t 8.72 \t СКА - Витязь Подольск\n",
      "2.48 \t 4.18 \t 2.51 \t Торпедо Нижний Новгород - ОХК Динамо Москва\n",
      "2.14 \t 3.88 \t 3.17 \t Динамо Рига - Трактор Челябинск\n",
      "6.04 \t 5.56 \t 1.44 \t Слован Братислава - Автомобилист Екатеринбург\n",
      "5.92 \t 5.48 \t 1.45 \t Адмирал - Йокерит Хельсинки\n",
      "3.85 \t 4.18 \t 1.85 \t Амур Хабаровск - Локомотив Ярославль\n",
      "1.69 \t 4.55 \t 4.4 \t Куньлунь Ред Стар - Северсталь\n",
      "2.28 \t 4.11 \t 2.79 \t Сибирь - ХК Сочи\n",
      "1.87 \t 4.37 \t 3.63 \t Барыс Астана - ХК Спартак Москва\n",
      "1.9 \t 4.29 \t 3.55 \t Авангард Омск - ХК Салават Юлаев\n",
      "2.57 \t 4.07 \t 2.46 \t Динамо Минск - Витязь Подольск\n",
      "1.54 \t 4.96 \t 5.28 \t ПХК ЦСКА Москва - Металлург Магнитогорск\n",
      "1.27 \t 7.35 \t 8.71 \t СКА - Нефтехимик Нижнекамск\n",
      "4.49 \t 4.43 \t 1.69 \t Динамо Рига - Автомобилист Екатеринбург\n",
      "2.96 \t 4.16 \t 2.17 \t Слован Братислава - Трактор Челябинск\n",
      "2.31 \t 4.12 \t 2.75 \t Адмирал - Северсталь\n",
      "3.96 \t 4.46 \t 1.78 \t Амур Хабаровск - Йокерит Хельсинки\n",
      "3.27 \t 4.16 \t 2.03 \t Куньлунь Ред Стар - Локомотив Ярославль\n",
      "2.48 \t 4.04 \t 2.57 \t Сибирь - ХК Спартак Москва\n",
      "2.3 \t 4.26 \t 2.7 \t Барыс Астана - ХК Салават Юлаев\n",
      "2.4 \t 4.04 \t 2.65 \t Трактор Челябинск - Торпедо Нижний Новгород\n",
      "2.37 \t 4.02 \t 2.7 \t Нефтехимик Нижнекамск - Витязь Подольск\n",
      "1.65 \t 4.71 \t 4.52 \t Авангард Омск - ХК Сочи\n",
      "1.48 \t 5.04 \t 6.03 \t ПХК ЦСКА Москва - Автомобилист Екатеринбург\n",
      "1.38 \t 6.0 \t 6.65 \t СКА - ОХК Динамо Москва\n",
      "3.34 \t 4.25 \t 1.98 \t Динамо Рига - Металлург Магнитогорск\n",
      "1.43 \t 5.65 \t 6.14 \t Йокерит Хельсинки - Нефтехимик Нижнекамск\n",
      "1.39 \t 5.81 \t 6.8 \t ОХК Динамо Москва - Северсталь\n",
      "2.17 \t 4.16 \t 2.96 \t ХК Спартак Москва - Торпедо Нижний Новгород\n",
      "4.57 \t 4.82 \t 1.63 \t Адмирал - Авангард Омск\n",
      "2.29 \t 4.05 \t 2.81 \t Амур Хабаровск - Сибирь\n",
      "2.78 \t 4.24 \t 2.25 \t Куньлунь Ред Стар - ХК Салават Юлаев\n",
      "1.31 \t 6.39 \t 8.24 \t Автомобилист Екатеринбург - Трактор Челябинск\n",
      "1.96 \t 4.51 \t 3.26 \t Металлург Магнитогорск - Барыс Астана\n",
      "4.28 \t 4.35 \t 1.74 \t Локомотив Ярославль - ПХК ЦСКА Москва\n",
      "1.17 \t 9.17 \t 12.94 \t СКА - Динамо Минск\n",
      "1.63 \t 4.81 \t 4.54 \t Динамо Рига - Слован Братислава\n",
      "\n"
     ]
    }
   ],
   "source": [
    "splitTxt  = []\n",
    "splitTxt = text.split('\"name\":')\n",
    "try:\n",
    "    i = 1\n",
    "    while 1:\n",
    "        \n",
    "        print(splitTxt[i+7].split('price\":')[1].split('}')[0],'\\t',splitTxt[i+8].split('price\":')[1].split('}')[0],'\\t',splitTxt[i+9].split('price\":')[1].split('}')[0],'\\t',splitTxt[i].split('\"')[1])\n",
    "        i += 10\n",
    "except:\n",
    "    print(\"\")"
   ]
  },
  {
   "cell_type": "code",
   "execution_count": 142,
   "metadata": {},
   "outputs": [
    {
     "name": "stdout",
     "output_type": "stream",
     "text": [
      "1.22 \t 7.46 \t 11.69 \t ПХК ЦСКА Москва - Динамо Минск\n",
      "1.27 \t 7.28 \t 8.72 \t СКА - Витязь Подольск\n",
      "6.04 \t 5.56 \t 1.44 \t Слован Братислава - Автомобилист Екатеринбург\n",
      "5.92 \t 5.48 \t 1.45 \t Адмирал - Йокерит Хельсинки\n",
      "1.27 \t 7.35 \t 8.71 \t СКА - Нефтехимик Нижнекамск\n",
      "1.48 \t 5.04 \t 6.03 \t ПХК ЦСКА Москва - Автомобилист Екатеринбург\n",
      "1.38 \t 6.0 \t 6.65 \t СКА - ОХК Динамо Москва\n",
      "1.43 \t 5.65 \t 6.14 \t Йокерит Хельсинки - Нефтехимик Нижнекамск\n",
      "1.39 \t 5.81 \t 6.8 \t ОХК Динамо Москва - Северсталь\n",
      "1.31 \t 6.39 \t 8.24 \t Автомобилист Екатеринбург - Трактор Челябинск\n",
      "1.17 \t 9.17 \t 12.94 \t СКА - Динамо Минск\n",
      "\n"
     ]
    }
   ],
   "source": [
    "splitTxt  = []\n",
    "splitTxt = text.split('\"name\":')\n",
    "try:\n",
    "    i = 1\n",
    "    while 1:\n",
    "        a = float(splitTxt[i+7].split('price\":')[1].split('}')[0])\n",
    "        b = float(splitTxt[i+9].split('price\":')[1].split('}')[0])\n",
    "        if a < 1.5 or b < 1.5:\n",
    "            print(splitTxt[i+7].split('price\":')[1].split('}')[0],'\\t',splitTxt[i+8].split('price\":')[1].split('}')[0],'\\t',splitTxt[i+9].split('price\":')[1].split('}')[0],'\\t',splitTxt[i].split('\"')[1])\n",
    "        i += 10\n",
    "except:\n",
    "    print(\"\")"
   ]
  },
  {
   "cell_type": "code",
   "execution_count": null,
   "metadata": {},
   "outputs": [],
   "source": []
  }
 ],
 "metadata": {
  "kernelspec": {
   "display_name": "Python 3",
   "language": "python",
   "name": "python3"
  },
  "language_info": {
   "codemirror_mode": {
    "name": "ipython",
    "version": 3
   },
   "file_extension": ".py",
   "mimetype": "text/x-python",
   "name": "python",
   "nbconvert_exporter": "python",
   "pygments_lexer": "ipython3",
   "version": "3.7.0"
  }
 },
 "nbformat": 4,
 "nbformat_minor": 2
}
